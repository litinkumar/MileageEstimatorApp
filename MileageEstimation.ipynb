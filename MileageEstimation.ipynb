{
 "cells": [
  {
   "cell_type": "markdown",
   "metadata": {},
   "source": [
    "<div style=\"display:block\">\n",
    "    <div style=\"width: 20%; display: inline-block; text-align: left;\">\n",
    "        <img src=\"https://styleguide.ischool.syr.edu/assets/logos/block/iSchoolBlock-OutlineswithSyracuseUniversity_Orange.png\" style=\"height:75px; margin-left:0px\" />\n",
    "    </div>\n",
    "    <div style=\"width: 59%; display: inline-block\">\n",
    "        <h1  style=\"text-align: center\">Mileage Estimation</h1>\n",
    "        <div style=\"width: 100%; text-align: center; display: inline-block;\"><i>Author:</i> <strong>B.N. Litin Kumar</strong> </div>\n",
    "    </div>\n",
    "    <div style=\"width: 20%; text-align: right; display: inline-block;\">\n",
    "        <div style=\"width: 100%; text-align: left; display: inline-block;\">\n",
    "            <i>Created: </i>\n",
    "            <time datetime=\"2016-08-19\" pubdate>July 17th, 2020</time>\n",
    "        </div>\n",
    "        <div style=\"width: 100%; text-align: left; display: inline-block;\">\n",
    "            <i>Modified: </i>\n",
    "            <time datetime=\"2016-08-19\" pubdate>July 23rd, 2020</time>\n",
    "        </div>\n",
    "    </div>\n",
    "</div>"
   ]
  },
  {
   "cell_type": "markdown",
   "metadata": {},
   "source": [
    "# Introduction "
   ]
  },
  {
   "cell_type": "markdown",
   "metadata": {},
   "source": [
    "The primary reason behind implementing this project is to get a hang of how to create a machine learning Django based web application. In order to implement this we use on of the classic machine learning techinique(Regression) on a very popular dataset(Auto MPG)\n"
   ]
  },
  {
   "cell_type": "markdown",
   "metadata": {},
   "source": [
    "# Problem Statement "
   ]
  },
  {
   "cell_type": "markdown",
   "metadata": {},
   "source": [
    "The objective of the exercise is to be able to successfully predict the mileage of a vehicle based on various specifications of the vehicle and also be able to modify the database automatically based on the predictions."
   ]
  },
  {
   "cell_type": "markdown",
   "metadata": {},
   "source": [
    "## Importing Pacakages "
   ]
  },
  {
   "cell_type": "code",
   "execution_count": 113,
   "metadata": {},
   "outputs": [],
   "source": [
    "import pandas as pd\n",
    "import numpy as np\n",
    "from sklearn import pipeline,preprocessing,metrics,model_selection,ensemble\n",
    "from sklearn_pandas import DataFrameMapper"
   ]
  },
  {
   "cell_type": "markdown",
   "metadata": {},
   "source": [
    "# Data "
   ]
  },
  {
   "cell_type": "code",
   "execution_count": 114,
   "metadata": {},
   "outputs": [
    {
     "data": {
      "text/html": [
       "<div>\n",
       "<style scoped>\n",
       "    .dataframe tbody tr th:only-of-type {\n",
       "        vertical-align: middle;\n",
       "    }\n",
       "\n",
       "    .dataframe tbody tr th {\n",
       "        vertical-align: top;\n",
       "    }\n",
       "\n",
       "    .dataframe thead th {\n",
       "        text-align: right;\n",
       "    }\n",
       "</style>\n",
       "<table border=\"1\" class=\"dataframe\">\n",
       "  <thead>\n",
       "    <tr style=\"text-align: right;\">\n",
       "      <th></th>\n",
       "      <th>MPG</th>\n",
       "      <th>Cylinders</th>\n",
       "      <th>Displacement</th>\n",
       "      <th>Horsepower</th>\n",
       "      <th>Weight</th>\n",
       "      <th>Accelration</th>\n",
       "      <th>Model</th>\n",
       "      <th>Origin</th>\n",
       "      <th>CarName</th>\n",
       "    </tr>\n",
       "  </thead>\n",
       "  <tbody>\n",
       "    <tr>\n",
       "      <th>0</th>\n",
       "      <td>18.0</td>\n",
       "      <td>8</td>\n",
       "      <td>307.0</td>\n",
       "      <td>130</td>\n",
       "      <td>3504</td>\n",
       "      <td>12.0</td>\n",
       "      <td>70</td>\n",
       "      <td>1</td>\n",
       "      <td>chevrolet chevelle malibu</td>\n",
       "    </tr>\n",
       "    <tr>\n",
       "      <th>1</th>\n",
       "      <td>15.0</td>\n",
       "      <td>8</td>\n",
       "      <td>350.0</td>\n",
       "      <td>165</td>\n",
       "      <td>3693</td>\n",
       "      <td>11.5</td>\n",
       "      <td>70</td>\n",
       "      <td>1</td>\n",
       "      <td>buick skylark 320</td>\n",
       "    </tr>\n",
       "    <tr>\n",
       "      <th>2</th>\n",
       "      <td>18.0</td>\n",
       "      <td>8</td>\n",
       "      <td>318.0</td>\n",
       "      <td>150</td>\n",
       "      <td>3436</td>\n",
       "      <td>11.0</td>\n",
       "      <td>70</td>\n",
       "      <td>1</td>\n",
       "      <td>plymouth satellite</td>\n",
       "    </tr>\n",
       "    <tr>\n",
       "      <th>3</th>\n",
       "      <td>16.0</td>\n",
       "      <td>8</td>\n",
       "      <td>304.0</td>\n",
       "      <td>150</td>\n",
       "      <td>3433</td>\n",
       "      <td>12.0</td>\n",
       "      <td>70</td>\n",
       "      <td>1</td>\n",
       "      <td>amc rebel sst</td>\n",
       "    </tr>\n",
       "    <tr>\n",
       "      <th>4</th>\n",
       "      <td>17.0</td>\n",
       "      <td>8</td>\n",
       "      <td>302.0</td>\n",
       "      <td>140</td>\n",
       "      <td>3449</td>\n",
       "      <td>10.5</td>\n",
       "      <td>70</td>\n",
       "      <td>1</td>\n",
       "      <td>ford torino</td>\n",
       "    </tr>\n",
       "  </tbody>\n",
       "</table>\n",
       "</div>"
      ],
      "text/plain": [
       "    MPG  Cylinders  Displacement Horsepower  Weight  Accelration  Model  \\\n",
       "0  18.0          8         307.0        130    3504         12.0     70   \n",
       "1  15.0          8         350.0        165    3693         11.5     70   \n",
       "2  18.0          8         318.0        150    3436         11.0     70   \n",
       "3  16.0          8         304.0        150    3433         12.0     70   \n",
       "4  17.0          8         302.0        140    3449         10.5     70   \n",
       "\n",
       "   Origin                    CarName  \n",
       "0       1  chevrolet chevelle malibu  \n",
       "1       1          buick skylark 320  \n",
       "2       1         plymouth satellite  \n",
       "3       1              amc rebel sst  \n",
       "4       1                ford torino  "
      ]
     },
     "execution_count": 114,
     "metadata": {},
     "output_type": "execute_result"
    }
   ],
   "source": [
    "data=pd.read_csv('MPG.csv')\n",
    "data.head()"
   ]
  },
  {
   "cell_type": "markdown",
   "metadata": {},
   "source": [
    "### Checking for Null Values"
   ]
  },
  {
   "cell_type": "code",
   "execution_count": 115,
   "metadata": {},
   "outputs": [
    {
     "data": {
      "text/plain": [
       "MPG             0\n",
       "Cylinders       0\n",
       "Displacement    0\n",
       "Horsepower      0\n",
       "Weight          0\n",
       "Accelration     0\n",
       "Model           0\n",
       "Origin          0\n",
       "CarName         0\n",
       "dtype: int64"
      ]
     },
     "execution_count": 115,
     "metadata": {},
     "output_type": "execute_result"
    }
   ],
   "source": [
    "data.isnull().sum()"
   ]
  },
  {
   "cell_type": "code",
   "execution_count": 116,
   "metadata": {},
   "outputs": [],
   "source": [
    "mapper = DataFrameMapper([\n",
    "                        (['Cylinders','Displacement','Weight','Accelration','Model'],preprocessing.StandardScaler()), #Scaling the predictors \n",
    "                        (['Origin'],preprocessing.OneHotEncoder(handle_unknown='ignore')) #Since its a categorical Variable\n",
    "                        ])"
   ]
  },
  {
   "cell_type": "code",
   "execution_count": 117,
   "metadata": {},
   "outputs": [],
   "source": [
    "pipeline_obj = pipeline.Pipeline([\n",
    "    ('mapper',mapper),\n",
    "    ('model',ensemble.RandomForestRegressor())\n",
    "])"
   ]
  },
  {
   "cell_type": "code",
   "execution_count": 118,
   "metadata": {},
   "outputs": [
    {
     "data": {
      "text/plain": [
       "Index(['MPG', 'Cylinders', 'Displacement', 'Horsepower', 'Weight',\n",
       "       'Accelration', 'Model', 'Origin', 'CarName'],\n",
       "      dtype='object')"
      ]
     },
     "execution_count": 118,
     "metadata": {},
     "output_type": "execute_result"
    }
   ],
   "source": [
    "data.columns"
   ]
  },
  {
   "cell_type": "code",
   "execution_count": 119,
   "metadata": {},
   "outputs": [],
   "source": [
    "X=['Cylinders','Displacement','Horsepower','Weight','Accelration','Model','Origin']\n",
    "Y=['MPG']"
   ]
  },
  {
   "cell_type": "code",
   "execution_count": 120,
   "metadata": {},
   "outputs": [
    {
     "name": "stderr",
     "output_type": "stream",
     "text": [
      "/Library/Python/3.7/site-packages/sklearn/pipeline.py:354: DataConversionWarning: A column-vector y was passed when a 1d array was expected. Please change the shape of y to (n_samples,), for example using ravel().\n",
      "  self._final_estimator.fit(Xt, y, **fit_params)\n"
     ]
    },
    {
     "data": {
      "text/plain": [
       "Pipeline(memory=None,\n",
       "         steps=[('mapper',\n",
       "                 DataFrameMapper(default=False, df_out=False,\n",
       "                                 features=[(['Cylinders', 'Displacement',\n",
       "                                             'Weight', 'Accelration', 'Model'],\n",
       "                                            StandardScaler(copy=True,\n",
       "                                                           with_mean=True,\n",
       "                                                           with_std=True)),\n",
       "                                           (['Origin'],\n",
       "                                            OneHotEncoder(categories='auto',\n",
       "                                                          drop=None,\n",
       "                                                          dtype=<class 'numpy.float64'>,\n",
       "                                                          handle_unknown='ignore',\n",
       "                                                          sparse=True))],\n",
       "                                 input_df=False, spars...\n",
       "                 RandomForestRegressor(bootstrap=True, ccp_alpha=0.0,\n",
       "                                       criterion='mse', max_depth=None,\n",
       "                                       max_features='auto', max_leaf_nodes=None,\n",
       "                                       max_samples=None,\n",
       "                                       min_impurity_decrease=0.0,\n",
       "                                       min_impurity_split=None,\n",
       "                                       min_samples_leaf=1, min_samples_split=2,\n",
       "                                       min_weight_fraction_leaf=0.0,\n",
       "                                       n_estimators=100, n_jobs=None,\n",
       "                                       oob_score=False, random_state=None,\n",
       "                                       verbose=0, warm_start=False))],\n",
       "         verbose=False)"
      ]
     },
     "execution_count": 120,
     "metadata": {},
     "output_type": "execute_result"
    }
   ],
   "source": [
    "pipeline_obj.fit(data[X],data[Y])"
   ]
  },
  {
   "cell_type": "code",
   "execution_count": 121,
   "metadata": {},
   "outputs": [
    {
     "data": {
      "text/plain": [
       "array([17.471, 14.64 , 17.011, 16.411, 16.72 , 14.51 , 13.87 , 14.27 ,\n",
       "       13.06 , 14.93 , 14.7  , 14.34 , 14.94 , 14.888, 23.965, 21.19 ,\n",
       "       19.24 , 20.858, 27.13 , 26.525, 24.466, 24.22 , 24.72 , 25.343,\n",
       "       20.72 , 10.57 , 11.   , 11.885, 10.1  , 27.14 , 26.535, 24.976,\n",
       "       26.351, 19.524, 16.787, 17.446, 18.545, 18.256, 13.815, 13.5  ,\n",
       "       14.04 , 14.12 , 12.3  , 12.84 , 12.6  , 18.33 , 21.92 , 18.7  ,\n",
       "       18.065, 23.835, 27.335, 29.205, 29.11 , 31.56 , 33.655, 27.03 ,\n",
       "       26.71 , 24.424, 25.635, 23.065, 20.63 , 22.204, 13.38 , 13.64 ,\n",
       "       14.62 , 13.965, 16.04 , 11.71 , 12.67 , 12.47 , 13.11 , 20.479,\n",
       "       15.02 , 13.495, 13.485, 13.965, 19.39 , 22.15 , 20.655, 26.   ,\n",
       "       22.425, 25.914, 22.687, 27.635, 26.835, 13.46 , 14.6  , 13.45 ,\n",
       "       13.985, 14.782, 11.99 , 13.05 , 13.425, 14.095, 12.6  , 12.05 ,\n",
       "       13.44 , 18.82 , 16.16 , 18.739, 18.355, 22.218, 26.39 , 11.24 ,\n",
       "       12.18 , 12.65 , 12.3  , 18.477, 21.6  , 20.8  , 23.109, 21.09 ,\n",
       "       20.29 , 21.393, 25.9  , 14.29 , 15.39 , 28.63 , 25.21 , 21.72 ,\n",
       "       19.781, 15.312, 23.116, 20.247, 12.29 , 20.288, 20.914, 19.515,\n",
       "       16.008, 31.08 , 25.287, 31.295, 24.861, 15.935, 16.07 , 17.783,\n",
       "       15.14 , 13.225, 13.945, 13.675, 14.152, 27.779, 27.6  , 26.187,\n",
       "       31.905, 31.69 , 27.5  , 25.41 , 25.945, 24.183, 25.622, 29.85 ,\n",
       "       19.358, 17.66 , 15.817, 15.966, 15.13 , 14.9  , 15.315, 14.485,\n",
       "       17.236, 16.04 , 15.703, 17.401, 20.65 , 19.123, 14.893, 28.305,\n",
       "       23.572, 19.864, 22.68 , 23.998, 25.289, 24.183, 19.147, 28.835,\n",
       "       18.791, 23.714, 22.364, 21.637, 24.371, 32.18 , 26.617, 25.083,\n",
       "       25.106, 26.214, 27.095, 16.765, 15.74 , 15.055, 14.81 , 21.667,\n",
       "       20.731, 22.75 , 21.67 , 29.453, 25.841, 29.015, 32.495, 19.416,\n",
       "       18.644, 18.372, 18.192, 29.36 , 31.93 , 28.175, 26.125, 20.203,\n",
       "       13.817, 19.89 , 19.884, 17.027, 15.96 , 14.035, 14.405, 13.83 ,\n",
       "       31.666, 30.069, 33.769, 25.753, 32.639, 16.734, 16.88 , 15.595,\n",
       "       15.423, 17.869, 20.39 , 19.058, 18.366, 15.735, 15.604, 15.675,\n",
       "       15.62 , 29.597, 24.547, 26.005, 24.905, 30.864, 32.43 , 30.508,\n",
       "       29.608, 21.656, 22.739, 22.312, 39.845, 35.867, 33.711, 37.427,\n",
       "       35.633, 19.67 , 18.998, 19.498, 19.216, 20.251, 20.258, 24.841,\n",
       "       20.075, 19.658, 20.474, 20.667, 18.924, 18.761, 19.049, 18.395,\n",
       "       18.126, 17.076, 30.589, 25.969, 26.553, 29.604, 22.602, 23.612,\n",
       "       23.131, 24.414, 21.222, 17.651, 22.137, 17.143, 32.611, 30.756,\n",
       "       21.129, 20.885, 23.388, 20.354, 20.42 , 17.6  , 18.761, 16.996,\n",
       "       17.99 , 16.694, 16.12 , 19.646, 17.968, 33.435, 34.158, 35.369,\n",
       "       27.796, 25.494, 21.174, 27.012, 22.183, 34.502, 35.325, 33.512,\n",
       "       36.984, 27.992, 27.709, 25.972, 31.259, 39.376, 37.33 , 33.8  ,\n",
       "       37.161, 27.676, 25.787, 25.029, 19.904, 34.339, 29.861, 31.824,\n",
       "       35.276, 32.804, 43.674, 27.029, 40.735, 43.178, 39.712, 32.677,\n",
       "       28.971, 40.621, 39.216, 35.791, 33.246, 29.868, 26.121, 34.005,\n",
       "       24.114, 32.772, 28.426, 27.003, 26.253, 24.552, 31.504, 38.236,\n",
       "       38.193, 35.984, 34.52 , 36.741, 36.543, 34.308, 34.583, 34.378,\n",
       "       32.173, 33.895, 33.857, 33.934, 32.943, 32.542, 31.341, 28.197,\n",
       "       27.927, 25.861, 25.263, 21.614, 24.431, 20.713, 18.872, 28.523,\n",
       "       27.82 , 32.978, 30.231, 28.938, 27.168, 24.901, 24.601, 35.814,\n",
       "       36.649, 33.457, 37.65 , 35.879, 35.918, 35.528, 33.674, 36.197,\n",
       "       33.672, 36.365, 25.702, 30.953, 27.006, 24.527, 30.507, 33.977,\n",
       "       26.365, 26.543, 42.109, 32.329, 28.228, 29.589])"
      ]
     },
     "execution_count": 121,
     "metadata": {},
     "output_type": "execute_result"
    }
   ],
   "source": [
    "pipeline_obj.predict(data[X])"
   ]
  },
  {
   "cell_type": "code",
   "execution_count": 122,
   "metadata": {},
   "outputs": [],
   "source": [
    "from sklearn.externals import joblib"
   ]
  },
  {
   "cell_type": "markdown",
   "metadata": {},
   "source": [
    "### Saving the model in a pickle file "
   ]
  },
  {
   "cell_type": "code",
   "execution_count": 123,
   "metadata": {},
   "outputs": [
    {
     "data": {
      "text/plain": [
       "['ModelRF.pkl']"
      ]
     },
     "execution_count": 123,
     "metadata": {},
     "output_type": "execute_result"
    }
   ],
   "source": [
    "joblib.dump(pipeline_obj,'ModelRF.pkl')"
   ]
  },
  {
   "cell_type": "code",
   "execution_count": 124,
   "metadata": {},
   "outputs": [],
   "source": [
    "modelReload=joblib.load('ModelRF.pkl')"
   ]
  },
  {
   "cell_type": "markdown",
   "metadata": {},
   "source": [
    "### Checking the saved model "
   ]
  },
  {
   "cell_type": "code",
   "execution_count": 125,
   "metadata": {},
   "outputs": [
    {
     "data": {
      "text/plain": [
       "array([17.471, 14.64 , 17.011, 16.411, 16.72 , 14.51 , 13.87 , 14.27 ,\n",
       "       13.06 , 14.93 , 14.7  , 14.34 , 14.94 , 14.888, 23.965, 21.19 ,\n",
       "       19.24 , 20.858, 27.13 , 26.525, 24.466, 24.22 , 24.72 , 25.343,\n",
       "       20.72 , 10.57 , 11.   , 11.885, 10.1  , 27.14 , 26.535, 24.976,\n",
       "       26.351, 19.524, 16.787, 17.446, 18.545, 18.256, 13.815, 13.5  ,\n",
       "       14.04 , 14.12 , 12.3  , 12.84 , 12.6  , 18.33 , 21.92 , 18.7  ,\n",
       "       18.065, 23.835, 27.335, 29.205, 29.11 , 31.56 , 33.655, 27.03 ,\n",
       "       26.71 , 24.424, 25.635, 23.065, 20.63 , 22.204, 13.38 , 13.64 ,\n",
       "       14.62 , 13.965, 16.04 , 11.71 , 12.67 , 12.47 , 13.11 , 20.479,\n",
       "       15.02 , 13.495, 13.485, 13.965, 19.39 , 22.15 , 20.655, 26.   ,\n",
       "       22.425, 25.914, 22.687, 27.635, 26.835, 13.46 , 14.6  , 13.45 ,\n",
       "       13.985, 14.782, 11.99 , 13.05 , 13.425, 14.095, 12.6  , 12.05 ,\n",
       "       13.44 , 18.82 , 16.16 , 18.739, 18.355, 22.218, 26.39 , 11.24 ,\n",
       "       12.18 , 12.65 , 12.3  , 18.477, 21.6  , 20.8  , 23.109, 21.09 ,\n",
       "       20.29 , 21.393, 25.9  , 14.29 , 15.39 , 28.63 , 25.21 , 21.72 ,\n",
       "       19.781, 15.312, 23.116, 20.247, 12.29 , 20.288, 20.914, 19.515,\n",
       "       16.008, 31.08 , 25.287, 31.295, 24.861, 15.935, 16.07 , 17.783,\n",
       "       15.14 , 13.225, 13.945, 13.675, 14.152, 27.779, 27.6  , 26.187,\n",
       "       31.905, 31.69 , 27.5  , 25.41 , 25.945, 24.183, 25.622, 29.85 ,\n",
       "       19.358, 17.66 , 15.817, 15.966, 15.13 , 14.9  , 15.315, 14.485,\n",
       "       17.236, 16.04 , 15.703, 17.401, 20.65 , 19.123, 14.893, 28.305,\n",
       "       23.572, 19.864, 22.68 , 23.998, 25.289, 24.183, 19.147, 28.835,\n",
       "       18.791, 23.714, 22.364, 21.637, 24.371, 32.18 , 26.617, 25.083,\n",
       "       25.106, 26.214, 27.095, 16.765, 15.74 , 15.055, 14.81 , 21.667,\n",
       "       20.731, 22.75 , 21.67 , 29.453, 25.841, 29.015, 32.495, 19.416,\n",
       "       18.644, 18.372, 18.192, 29.36 , 31.93 , 28.175, 26.125, 20.203,\n",
       "       13.817, 19.89 , 19.884, 17.027, 15.96 , 14.035, 14.405, 13.83 ,\n",
       "       31.666, 30.069, 33.769, 25.753, 32.639, 16.734, 16.88 , 15.595,\n",
       "       15.423, 17.869, 20.39 , 19.058, 18.366, 15.735, 15.604, 15.675,\n",
       "       15.62 , 29.597, 24.547, 26.005, 24.905, 30.864, 32.43 , 30.508,\n",
       "       29.608, 21.656, 22.739, 22.312, 39.845, 35.867, 33.711, 37.427,\n",
       "       35.633, 19.67 , 18.998, 19.498, 19.216, 20.251, 20.258, 24.841,\n",
       "       20.075, 19.658, 20.474, 20.667, 18.924, 18.761, 19.049, 18.395,\n",
       "       18.126, 17.076, 30.589, 25.969, 26.553, 29.604, 22.602, 23.612,\n",
       "       23.131, 24.414, 21.222, 17.651, 22.137, 17.143, 32.611, 30.756,\n",
       "       21.129, 20.885, 23.388, 20.354, 20.42 , 17.6  , 18.761, 16.996,\n",
       "       17.99 , 16.694, 16.12 , 19.646, 17.968, 33.435, 34.158, 35.369,\n",
       "       27.796, 25.494, 21.174, 27.012, 22.183, 34.502, 35.325, 33.512,\n",
       "       36.984, 27.992, 27.709, 25.972, 31.259, 39.376, 37.33 , 33.8  ,\n",
       "       37.161, 27.676, 25.787, 25.029, 19.904, 34.339, 29.861, 31.824,\n",
       "       35.276, 32.804, 43.674, 27.029, 40.735, 43.178, 39.712, 32.677,\n",
       "       28.971, 40.621, 39.216, 35.791, 33.246, 29.868, 26.121, 34.005,\n",
       "       24.114, 32.772, 28.426, 27.003, 26.253, 24.552, 31.504, 38.236,\n",
       "       38.193, 35.984, 34.52 , 36.741, 36.543, 34.308, 34.583, 34.378,\n",
       "       32.173, 33.895, 33.857, 33.934, 32.943, 32.542, 31.341, 28.197,\n",
       "       27.927, 25.861, 25.263, 21.614, 24.431, 20.713, 18.872, 28.523,\n",
       "       27.82 , 32.978, 30.231, 28.938, 27.168, 24.901, 24.601, 35.814,\n",
       "       36.649, 33.457, 37.65 , 35.879, 35.918, 35.528, 33.674, 36.197,\n",
       "       33.672, 36.365, 25.702, 30.953, 27.006, 24.527, 30.507, 33.977,\n",
       "       26.365, 26.543, 42.109, 32.329, 28.228, 29.589])"
      ]
     },
     "execution_count": 125,
     "metadata": {},
     "output_type": "execute_result"
    }
   ],
   "source": [
    "modelReload.predict(data[X])"
   ]
  },
  {
   "cell_type": "markdown",
   "metadata": {},
   "source": [
    "## Trasnformation done in the Webapp  "
   ]
  },
  {
   "cell_type": "code",
   "execution_count": 126,
   "metadata": {},
   "outputs": [],
   "source": [
    "temp={}\n",
    "temp['Cylinders']=8\n",
    "temp['Displacement']=307\n",
    "temp['Horsepower']=130\n",
    "temp['Weight']=3504\n",
    "temp['Accelration']=12\n",
    "temp['Model']=70\n",
    "temp['Origin']=1"
   ]
  },
  {
   "cell_type": "code",
   "execution_count": 127,
   "metadata": {},
   "outputs": [],
   "source": [
    "testData=pd.DataFrame({'x':temp}).transpose()"
   ]
  },
  {
   "cell_type": "code",
   "execution_count": 128,
   "metadata": {},
   "outputs": [
    {
     "data": {
      "text/html": [
       "<div>\n",
       "<style scoped>\n",
       "    .dataframe tbody tr th:only-of-type {\n",
       "        vertical-align: middle;\n",
       "    }\n",
       "\n",
       "    .dataframe tbody tr th {\n",
       "        vertical-align: top;\n",
       "    }\n",
       "\n",
       "    .dataframe thead th {\n",
       "        text-align: right;\n",
       "    }\n",
       "</style>\n",
       "<table border=\"1\" class=\"dataframe\">\n",
       "  <thead>\n",
       "    <tr style=\"text-align: right;\">\n",
       "      <th></th>\n",
       "      <th>Accelration</th>\n",
       "      <th>Cylinders</th>\n",
       "      <th>Displacement</th>\n",
       "      <th>Horsepower</th>\n",
       "      <th>Model</th>\n",
       "      <th>Origin</th>\n",
       "      <th>Weight</th>\n",
       "    </tr>\n",
       "  </thead>\n",
       "  <tbody>\n",
       "    <tr>\n",
       "      <th>x</th>\n",
       "      <td>12</td>\n",
       "      <td>8</td>\n",
       "      <td>307</td>\n",
       "      <td>130</td>\n",
       "      <td>70</td>\n",
       "      <td>1</td>\n",
       "      <td>3504</td>\n",
       "    </tr>\n",
       "  </tbody>\n",
       "</table>\n",
       "</div>"
      ],
      "text/plain": [
       "   Accelration  Cylinders  Displacement  Horsepower  Model  Origin  Weight\n",
       "x           12          8           307         130     70       1    3504"
      ]
     },
     "execution_count": 128,
     "metadata": {},
     "output_type": "execute_result"
    }
   ],
   "source": [
    "testData"
   ]
  },
  {
   "cell_type": "code",
   "execution_count": 129,
   "metadata": {},
   "outputs": [
    {
     "data": {
      "text/plain": [
       "17.471"
      ]
     },
     "execution_count": 129,
     "metadata": {},
     "output_type": "execute_result"
    }
   ],
   "source": [
    "modelReload.predict(testData)[0]"
   ]
  }
 ],
 "metadata": {
  "kernelspec": {
   "display_name": "Python 3",
   "language": "python",
   "name": "python3"
  },
  "language_info": {
   "codemirror_mode": {
    "name": "ipython",
    "version": 3
   },
   "file_extension": ".py",
   "mimetype": "text/x-python",
   "name": "python",
   "nbconvert_exporter": "python",
   "pygments_lexer": "ipython3",
   "version": "3.7.3"
  }
 },
 "nbformat": 4,
 "nbformat_minor": 4
}
